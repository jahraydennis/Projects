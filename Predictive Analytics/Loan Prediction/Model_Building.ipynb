{
  "nbformat": 4,
  "nbformat_minor": 0,
  "metadata": {
    "kernelspec": {
      "display_name": "Python 3",
      "language": "python",
      "name": "python3"
    },
    "language_info": {
      "codemirror_mode": {
        "name": "ipython",
        "version": 3
      },
      "file_extension": ".py",
      "mimetype": "text/x-python",
      "name": "python",
      "nbconvert_exporter": "python",
      "pygments_lexer": "ipython3",
      "version": "3.8.3"
    },
    "colab": {
      "name": "Model-Building",
      "provenance": []
    }
  },
  "cells": [
    {
      "cell_type": "markdown",
      "metadata": {
        "id": "CU5RiehXIl-h"
      },
      "source": [
        "# Loan Prediction Main"
      ]
    },
    {
      "cell_type": "code",
      "metadata": {
        "id": "e0oOG_6dIfdB"
      },
      "source": [
        "# Loading necessary packages\n",
        "import pandas as pd\n",
        "import numpy as np                       # For mathematical calculations\n",
        "import seaborn as sns                    # For data visualization\n",
        "import matplotlib.pyplot as plt          # For plotting graphs\n",
        "%matplotlib inline\n",
        "import warnings                          # To ignore any warnings\n",
        "warnings.filterwarnings(\"ignore\")        "
      ],
      "execution_count": 73,
      "outputs": []
    },
    {
      "cell_type": "markdown",
      "metadata": {
        "id": "KMxM3jgtBHFj"
      },
      "source": [
        "## Data Analysis"
      ]
    },
    {
      "cell_type": "code",
      "metadata": {
        "id": "AxLJTvOrIfdH"
      },
      "source": [
        "# The Train file will be used for training our model. It contains all the independent\n",
        "# variables and target variable.\n",
        "# The Test file contains all the independent variables, but not the target variable. We\n",
        "# will apply the model to predict the target variable for the test data.\n",
        "# Sample submission file contains the format in which we have to submit our predictions.\n",
        "\n",
        "# Reading the data\n",
        "train = pd.read_csv(\"train_ctrUa4K.csv\")\n",
        "test = pd.read_csv(\"test_lAUu6dG.csv\")"
      ],
      "execution_count": 74,
      "outputs": []
    },
    {
      "cell_type": "code",
      "metadata": {
        "id": "SNStxU9mIfdL"
      },
      "source": [
        "# Making copies of the Train and Test data so that I do not make any changes\n",
        "# to the original datasets.\n",
        "train_original = train.copy()\n",
        "test_original = test.copy()"
      ],
      "execution_count": 75,
      "outputs": []
    },
    {
      "cell_type": "code",
      "metadata": {
        "id": "oBDSKi_8IfdQ",
        "outputId": "82f06533-6489-49ff-c932-433a2992d566",
        "colab": {
          "base_uri": "https://localhost:8080/",
          "height": 0
        }
      },
      "source": [
        "# Understanding the data : Here we will look at the structure of the train and test datasets.\n",
        "\n",
        "# First we will check the features present and then look at their data types.\n",
        "train.columns"
      ],
      "execution_count": 76,
      "outputs": [
        {
          "output_type": "execute_result",
          "data": {
            "text/plain": [
              "Index(['Loan_ID', 'Gender', 'Married', 'Dependents', 'Education',\n",
              "       'Self_Employed', 'ApplicantIncome', 'CoapplicantIncome', 'LoanAmount',\n",
              "       'Loan_Amount_Term', 'Credit_History', 'Property_Area', 'Loan_Status'],\n",
              "      dtype='object')"
            ]
          },
          "metadata": {
            "tags": []
          },
          "execution_count": 76
        }
      ]
    },
    {
      "cell_type": "code",
      "metadata": {
        "id": "VlyNilKCIfdV"
      },
      "source": [
        "# Observation:\n",
        "# We have 12 independent variables and 1 target variable, i.e Loan_Status in the train dataset"
      ],
      "execution_count": 77,
      "outputs": []
    },
    {
      "cell_type": "code",
      "metadata": {
        "id": "KvwW5gD8IfdY",
        "outputId": "26b076c9-c992-407f-af44-23e6cd8001a3",
        "colab": {
          "base_uri": "https://localhost:8080/",
          "height": 0
        }
      },
      "source": [
        "test.columns"
      ],
      "execution_count": 78,
      "outputs": [
        {
          "output_type": "execute_result",
          "data": {
            "text/plain": [
              "Index(['Loan_ID', 'Gender', 'Married', 'Dependents', 'Education',\n",
              "       'Self_Employed', 'ApplicantIncome', 'CoapplicantIncome', 'LoanAmount',\n",
              "       'Loan_Amount_Term', 'Credit_History', 'Property_Area'],\n",
              "      dtype='object')"
            ]
          },
          "metadata": {
            "tags": []
          },
          "execution_count": 78
        }
      ]
    },
    {
      "cell_type": "markdown",
      "metadata": {
        "id": "3gqNSO3yFOBB"
      },
      "source": [
        "Observation:\n",
        "- We have similar features in the dataset as the train dataset except the Loan_Status.\n",
        "- We will predict Loan_Status using the model built using the train data."
      ]
    },
    {
      "cell_type": "code",
      "metadata": {
        "id": "UhEubQvRIfdh",
        "outputId": "56cd63ad-9c5f-421f-ac49-4ad11950050f",
        "colab": {
          "base_uri": "https://localhost:8080/",
          "height": 0
        }
      },
      "source": [
        "# Print the variable data types and shape\n",
        "train.dtypes"
      ],
      "execution_count": 79,
      "outputs": [
        {
          "output_type": "execute_result",
          "data": {
            "text/plain": [
              "Loan_ID               object\n",
              "Gender                object\n",
              "Married               object\n",
              "Dependents            object\n",
              "Education             object\n",
              "Self_Employed         object\n",
              "ApplicantIncome        int64\n",
              "CoapplicantIncome    float64\n",
              "LoanAmount           float64\n",
              "Loan_Amount_Term     float64\n",
              "Credit_History       float64\n",
              "Property_Area         object\n",
              "Loan_Status           object\n",
              "dtype: object"
            ]
          },
          "metadata": {
            "tags": []
          },
          "execution_count": 79
        }
      ]
    },
    {
      "cell_type": "code",
      "metadata": {
        "id": "YWgJPubSIfdk",
        "outputId": "36d6f6c6-a226-49cd-b77c-fa12ee05c9ed",
        "colab": {
          "base_uri": "https://localhost:8080/",
          "height": 0
        }
      },
      "source": [
        "train.shape, test.shape"
      ],
      "execution_count": 80,
      "outputs": [
        {
          "output_type": "execute_result",
          "data": {
            "text/plain": [
              "((614, 13), (367, 12))"
            ]
          },
          "metadata": {
            "tags": []
          },
          "execution_count": 80
        }
      ]
    },
    {
      "cell_type": "code",
      "metadata": {
        "id": "xpzYUd1TIfdn"
      },
      "source": [
        "# Observation:\n",
        "# We have 614 rows and 13 columns in the train dataset and 367 rows and 12 columns \n",
        "# in the test dataset."
      ],
      "execution_count": 81,
      "outputs": []
    },
    {
      "cell_type": "markdown",
      "metadata": {
        "id": "-zfHU3BJ9yGa"
      },
      "source": [
        "## Univariate / Bivariate Analysis"
      ]
    },
    {
      "cell_type": "markdown",
      "metadata": {
        "id": "ROY5Yar_HMrE"
      },
      "source": [
        "### Univariate Analysis\n"
      ]
    },
    {
      "cell_type": "code",
      "metadata": {
        "id": "myiGNKpfIfdq",
        "outputId": "51714ad0-48a1-4d07-faa5-1b886607786a",
        "colab": {
          "base_uri": "https://localhost:8080/",
          "height": 0
        }
      },
      "source": [
        "# Univariate Analysis\n",
        "\n",
        "# This is the simplest form of analyzing data where we examine each variable individually.\n",
        "# For categorical features, we can use frequency table or bar plots which will calculate \n",
        "# the number of each category in a particular variable.\n",
        "# For numerical features, probability density plots can be used to look at the distribution \n",
        "# of the variable.\n",
        "\n",
        "# Target Variable:\n",
        "# Let's first look at the target variable 'Loan_Status'. As it is also a categorical variable,\n",
        "# we will look at its frequency table, percentage distribution and bar plot.\n",
        "\n",
        "train['Loan_Status'].value_counts() "
      ],
      "execution_count": 82,
      "outputs": [
        {
          "output_type": "execute_result",
          "data": {
            "text/plain": [
              "Y    422\n",
              "N    192\n",
              "Name: Loan_Status, dtype: int64"
            ]
          },
          "metadata": {
            "tags": []
          },
          "execution_count": 82
        }
      ]
    },
    {
      "cell_type": "code",
      "metadata": {
        "id": "3dNxIVFOIfdt",
        "outputId": "60ab3a12-cd60-4668-d2dd-d679ae596339",
        "colab": {
          "base_uri": "https://localhost:8080/",
          "height": 0
        }
      },
      "source": [
        "# Normalize can set to True to print proportions instead of number\n",
        "train['Loan_Status'].value_counts(normalize = True) "
      ],
      "execution_count": 83,
      "outputs": [
        {
          "output_type": "execute_result",
          "data": {
            "text/plain": [
              "Y    0.687296\n",
              "N    0.312704\n",
              "Name: Loan_Status, dtype: float64"
            ]
          },
          "metadata": {
            "tags": []
          },
          "execution_count": 83
        }
      ]
    },
    {
      "cell_type": "code",
      "metadata": {
        "id": "eoRZKbtSIfdx",
        "outputId": "7b1857f2-d1e8-4140-f324-528fade4b80c",
        "colab": {
          "base_uri": "https://localhost:8080/",
          "height": 0
        }
      },
      "source": [
        "train['Loan_Status'].value_counts().plot.bar( color = ['blue', 'red']) "
      ],
      "execution_count": 84,
      "outputs": [
        {
          "output_type": "execute_result",
          "data": {
            "text/plain": [
              "<matplotlib.axes._subplots.AxesSubplot at 0x7f2372fd2748>"
            ]
          },
          "metadata": {
            "tags": []
          },
          "execution_count": 84
        },
        {
          "output_type": "display_data",
          "data": {
            "image/png": "[encoded data removed]",
            "text/plain": [
              "<Figure size 432x288 with 1 Axes>"
            ]
          },
          "metadata": {
            "tags": [],
            "needs_background": "light"
          }
        }
      ]
    },
    {
      "cell_type": "code",
      "metadata": {
        "id": "xLAEDlsLIfd1"
      },
      "source": [
        "# Observation: \n",
        "# The loan applications of 422 people (around 69%) out of 614 were approved."
      ],
      "execution_count": 85,
      "outputs": []
    },
    {
      "cell_type": "code",
      "metadata": {
        "id": "LV2OLEBlIfd5",
        "outputId": "36b0d33a-97cc-4e68-9a5f-10edfd07271d",
        "colab": {
          "base_uri": "https://localhost:8080/",
          "height": 0
        }
      },
      "source": [
        "# Now let's visualize each variable separately.\n",
        "# Categorical features: Gender, Marriage status, Employment status, Credit History, Loan Status\n",
        "# Ordinal features: Dependents, Education, Property Area\n",
        "# Numerical features: Applicant Income, Co-appliant Income, Loan Amount, Loan Term\n",
        "\n",
        "plt.figure(1) \n",
        "plt.subplot(221) \n",
        "train['Gender'].value_counts(normalize = True).plot.bar(figsize = (15,10), \n",
        "                                                        color = ['blue', 'red'],title = 'Gender')\n",
        "plt.subplot(222) \n",
        "train['Married'].value_counts(normalize = True).plot.bar(\n",
        "    color = ['blue', 'red'], title = 'Married')\n",
        "plt.subplot(223) \n",
        "train['Self_Employed'].value_counts(normalize = True).plot.bar(\n",
        "    color = ['blue', 'red'], title = 'Self_Employed')\n",
        "plt.subplot(224) \n",
        "train['Credit_History'].value_counts(normalize = True).plot.bar(\n",
        "    color = ['blue', 'red'], title = 'Credit_History')\n",
        "plt.show()"
      ],
      "execution_count": 86,
      "outputs": [
        {
          "output_type": "display_data",
          "data": {
            "image/png": "[encoded data removed]",
            "text/plain": [
              "<Figure size 1080x720 with 4 Axes>"
            ]
          },
          "metadata": {
            "tags": [],
            "needs_background": "light"
          }
        }
      ]
    },
    {
      "cell_type": "code",
      "metadata": {
        "id": "_J9ovcS_Ifd8"
      },
      "source": [
        "# Observations: \n",
        "\n",
        "# It can be inferred from the above bar plots that: \n",
        "# 1. 80% of the applicants in the dataset are male\n",
        "# 2. Around 65% of the applicants are married\n",
        "# 3. Around 15% of the applicants are self-employed\n",
        "# 4. Around 85% of the applicants have repaid their debts"
      ],
      "execution_count": 87,
      "outputs": []
    },
    {
      "cell_type": "code",
      "metadata": {
        "id": "UWjvb21JIfd_",
        "outputId": "28b32de4-eb2d-473a-e549-d6a07b59d12d",
        "colab": {
          "base_uri": "https://localhost:8080/",
          "height": 0
        }
      },
      "source": [
        "# Independent Variable (Ordinal)\n",
        "\n",
        "plt.figure(1)\n",
        "plt.subplot(131) \n",
        "train['Dependents'].value_counts(normalize = True).plot.bar(figsize = (15,6), \n",
        "                                                        color = ['blue', 'red'],title = 'Dependents')\n",
        "plt.subplot(132) \n",
        "train['Education'].value_counts(normalize = True).plot.bar(\n",
        "    color = ['blue', 'red'], title = 'Education')\n",
        "plt.subplot(133) \n",
        "train['Property_Area'].value_counts(normalize = True).plot.bar(\n",
        "    color = ['blue', 'red'], title = 'Property_Area')\n",
        "plt.show()"
      ],
      "execution_count": 88,
      "outputs": [
        {
          "output_type": "display_data",
          "data": {
            "image/png": "[encoded data removed]",
            "text/plain": [
              "<Figure size 1080x432 with 3 Axes>"
            ]
          },
          "metadata": {
            "tags": [],
            "needs_background": "light"
          }
        }
      ]
    },
    {
      "cell_type": "markdown",
      "metadata": {
        "id": "w8cOw2FuGTIL"
      },
      "source": [
        "Observations: \n",
        "\n",
        "It can be inferred from the above bar plots that: \n",
        "1. Most of the applicants in the dataset don't have any dependents\n",
        "2. Around 80% of the applicants are Graduates\n",
        "3. Most of the applicants are from Semi-Urban Areas\n"
      ]
    },
    {
      "cell_type": "code",
      "metadata": {
        "id": "WvsCqwBOIfeH",
        "outputId": "95c3294d-af8e-425f-d9c8-1934837a2dfb",
        "colab": {
          "base_uri": "https://localhost:8080/",
          "height": 0
        }
      },
      "source": [
        "# Independent Variable (Numerical)\n",
        "# Here we are looking at the distribution of applicant income\n",
        "\n",
        "plt.figure(1)\n",
        "plt.subplot(121) \n",
        "sns.distplot(train['ApplicantIncome']);\n",
        "plt.subplot(122) \n",
        "train['ApplicantIncome'].plot.box(figsize = (10,8))\n",
        "plt.show()"
      ],
      "execution_count": 89,
      "outputs": [
        {
          "output_type": "display_data",
          "data": {
            "image/png": "[encoded data removed]",
            "text/plain": [
              "<Figure size 720x576 with 2 Axes>"
            ]
          },
          "metadata": {
            "tags": [],
            "needs_background": "light"
          }
        }
      ]
    },
    {
      "cell_type": "markdown",
      "metadata": {
        "id": "bGElAcNvF-vD"
      },
      "source": [
        "Observations: \n",
        "\n",
        "It can be inferred from the above bar plots that: \n",
        "1. Most of the applicants iis towards the left, which means it is not normally distributed.\n",
        "2. The boxplot confirms the presence of alot of outliers / extreme values. \n",
        " - This can be attributed to income disparity in the society.\n",
        "3. We are also looking at people with different education levels. \n",
        "\n",
        "Let us segregate them by education"
      ]
    },
    {
      "cell_type": "code",
      "metadata": {
        "id": "-S5rYDbDIfeN",
        "outputId": "bb2ac70c-2875-4fa0-ffe0-28706ec713c6",
        "colab": {
          "base_uri": "https://localhost:8080/",
          "height": 0
        }
      },
      "source": [
        "train.boxplot(column = 'ApplicantIncome', by = 'Education')\n",
        "plt.suptitle(\"\") \n"
      ],
      "execution_count": 90,
      "outputs": [
        {
          "output_type": "execute_result",
          "data": {
            "text/plain": [
              "Text(0.5, 0.98, '')"
            ]
          },
          "metadata": {
            "tags": []
          },
          "execution_count": 90
        },
        {
          "output_type": "display_data",
          "data": {
            "image/png": "[encoded data removed]",
            "text/plain": [
              "<Figure size 432x288 with 1 Axes>"
            ]
          },
          "metadata": {
            "tags": [],
            "needs_background": "light"
          }
        }
      ]
    },
    {
      "cell_type": "markdown",
      "metadata": {
        "id": "VrohwGMmG2Vb"
      },
      "source": [
        "Observations: \n",
        "\n",
        "- We can see alot of outliers in this variable and the distribution is fairly normal.\n",
        "- We will deal with outliers later."
      ]
    },
    {
      "cell_type": "markdown",
      "metadata": {
        "id": "LM8RR4z7HCiT"
      },
      "source": [
        "### Bivariate Analysis\n"
      ]
    },
    {
      "cell_type": "code",
      "metadata": {
        "id": "p4RgMljvIfeU",
        "outputId": "8a0889c3-2007-47c4-b253-95ea953431d2",
        "colab": {
          "base_uri": "https://localhost:8080/",
          "height": 0
        }
      },
      "source": [
        "# Bivariate Analysis\n",
        "\n",
        "# Lets recall some of the hypotheses that we generated earlier:\n",
        "\n",
        "# **Salary: \n",
        "#   Applicants with high income should have more chances of loan approval\n",
        "# **Previous history: \n",
        "#   Applicants who have repaid their previous debts should have higher \n",
        "#   chances or loan approval.\n",
        "# **Loan amount: \n",
        "#   Loan approval should also depend on the loan amount. \n",
        "#   If the loan amount is less, chances of loan approval should be high.\n",
        "# **Loan term: \n",
        "#   Loan for less time period and less amount should have higher chances of approval.\n",
        "# **EMI: \n",
        "#   Lesser the amount to be paid monthly to repay the loan, the higher \n",
        "#   the chance of loan approval.\n",
        "\n",
        "\n",
        "# Categorical Independent Variable vs Target Variable:\n",
        "\n",
        "# First, we will find the relation between the proportion of approved and unapproved loans.\n",
        "\n",
        "Gender = pd.crosstab(train['Gender'], train['Loan_Status'])\n",
        "Gender.div(Gender.sum(1).astype(float), axis = 0).plot(kind = \"bar\", \n",
        "                                                       stacked = True, figsize = (4,4))"
      ],
      "execution_count": 91,
      "outputs": [
        {
          "output_type": "execute_result",
          "data": {
            "text/plain": [
              "<matplotlib.axes._subplots.AxesSubplot at 0x7f236cde8390>"
            ]
          },
          "metadata": {
            "tags": []
          },
          "execution_count": 91
        },
        {
          "output_type": "display_data",
          "data": {
            "image/png": "[encoded data removed]",
            "text/plain": [
              "<Figure size 288x288 with 1 Axes>"
            ]
          },
          "metadata": {
            "tags": [],
            "needs_background": "light"
          }
        }
      ]
    },
    {
      "cell_type": "markdown",
      "metadata": {
        "id": "zRxlaaVcHCkF"
      },
      "source": [
        "Observation: \n",
        "\n",
        "- It can be inferred from the above bar plots that the proporion of male and female applicants is more or less the same for both approved and unapproved loans."
      ]
    },
    {
      "cell_type": "code",
      "metadata": {
        "id": "FXT5XpjGIfeb",
        "outputId": "57603364-d44a-46d5-a8fa-cd8e15603495",
        "colab": {
          "base_uri": "https://localhost:8080/",
          "height": 0
        }
      },
      "source": [
        "# Now lets visualize the remaining categorical variables vs target variables.\n",
        "\n",
        "Married = pd.crosstab(train['Married'], train['Loan_Status'])\n",
        "Dependents = pd.crosstab(train['Dependents'], train['Loan_Status'])\n",
        "Education = pd.crosstab(train['Education'], train['Loan_Status'])\n",
        "Self_Employed = pd.crosstab(train['Self_Employed'], train['Loan_Status'])\n",
        "\n",
        "Married.div(Married.sum(1).astype(float), axis = 0).plot(kind = \"bar\", \n",
        "                                                       stacked = True, figsize = (4,4))\n",
        "plt.show()\n",
        "Dependents.div(Dependents.sum(1).astype(float), axis = 0).plot(kind = \"bar\", \n",
        "                                                       stacked = True, figsize = (4,4))\n",
        "plt.show()\n",
        "Education.div(Education.sum(1).astype(float), axis = 0).plot(kind = \"bar\", \n",
        "                                                       stacked = True, figsize = (4,4))\n",
        "plt.show()\n",
        "Self_Employed.div(Self_Employed.sum(1).astype(float), axis = 0).plot(kind = \"bar\", \n",
        "                                                       stacked = True, figsize = (4,4))\n",
        "plt.show()"
      ],
      "execution_count": 92,
      "outputs": [
        {
          "output_type": "display_data",
          "data": {
            "image/png": "[encoded data removed]",
            "text/plain": [
              "<Figure size 288x288 with 1 Axes>"
            ]
          },
          "metadata": {
            "tags": [],
            "needs_background": "light"
          }
        },
        {
          "output_type": "display_data",
          "data": {
            "image/png": "[encoded data removed]",
            "text/plain": [
              "<Figure size 288x288 with 1 Axes>"
            ]
          },
          "metadata": {
            "tags": [],
            "needs_background": "light"
          }
        },
        {
          "output_type": "display_data",
          "data": {
            "image/png": "[encoded data removed]",
            "text/plain": [
              "<Figure size 288x288 with 1 Axes>"
            ]
          },
          "metadata": {
            "tags": [],
            "needs_background": "light"
          }
        },
        {
          "output_type": "display_data",
          "data": {
            "image/png": "[encoded data removed]",
            "text/plain": [
              "<Figure size 288x288 with 1 Axes>"
            ]
          },
          "metadata": {
            "tags": [],
            "needs_background": "light"
          }
        }
      ]
    },
    {
      "cell_type": "markdown",
      "metadata": {
        "id": "HR6M0cczHN1a"
      },
      "source": [
        "Observations: \n",
        "\n",
        "It can be inferred from the above bar plots that: \n",
        "1. Proportion of married applicants is higher for the approved loans.\n",
        "2. Distribution of applicants with 1 or 3+ dependents is similar across both the categories of Loan_Status\n",
        "3. There is nothong significant we can infer from Self_Employed vs Loan_Status plot."
      ]
    },
    {
      "cell_type": "code",
      "metadata": {
        "id": "c7pHjJcSIfei",
        "outputId": "051138e2-eeda-4325-bdc5-ba429244dd94",
        "colab": {
          "base_uri": "https://localhost:8080/",
          "height": 0
        }
      },
      "source": [
        "# Now lets look at the relationship between the remaining categorical independent \n",
        "# variables and Loan_Status\n",
        "\n",
        "Credit_History = pd.crosstab(train['Credit_History'], train['Loan_Status'])\n",
        "Property_Area = pd.crosstab(train['Property_Area'], train['Loan_Status'])\n",
        "\n",
        "Credit_History.div(Credit_History.sum(1).astype(float),axis = 0).plot(\n",
        "    kind = \"bar\", stacked = True, figsize = (4,4))\n",
        "plt.show()\n",
        "\n",
        "Property_Area.div(Property_Area.sum(1).astype(float),axis = 0).plot(\n",
        "    kind = \"bar\", stacked = True)\n",
        "plt.show()"
      ],
      "execution_count": 93,
      "outputs": [
        {
          "output_type": "display_data",
          "data": {
            "image/png": "[encoded data removed]",
            "text/plain": [
              "<Figure size 288x288 with 1 Axes>"
            ]
          },
          "metadata": {
            "tags": [],
            "needs_background": "light"
          }
        },
        {
          "output_type": "display_data",
          "data": {
            "image/png": "[encoded data removed]",
            "text/plain": [
              "<Figure size 432x288 with 1 Axes>"
            ]
          },
          "metadata": {
            "tags": [],
            "needs_background": "light"
          }
        }
      ]
    },
    {
      "cell_type": "markdown",
      "metadata": {
        "id": "PFQbGQCdHZAd"
      },
      "source": [
        "Observations:\n",
        "\n",
        "1. It seems people with credit history as 1 are more likely to get their loans approved.\n",
        "2 .Proportion of loans getting approved in Semi-Urban areas are higher as compared to that in rural or urban areas."
      ]
    },
    {
      "cell_type": "code",
      "metadata": {
        "id": "GxTHCwICIfep",
        "outputId": "fe0532ee-2d4a-4016-f393-ba948ff35ac3",
        "colab": {
          "base_uri": "https://localhost:8080/",
          "height": 0
        }
      },
      "source": [
        "# Now lets visualize numerical independent variables with respect to the target variable.\n",
        "\n",
        "# We will try to find the mean income of people for which the loan ahas been approved vs\n",
        "# the mean income of people for which the loanhas not been approved\n",
        "\n",
        "train.groupby('Loan_Status')['ApplicantIncome'].mean().plot.bar(color = ['blue', 'lime']) "
      ],
      "execution_count": 94,
      "outputs": [
        {
          "output_type": "execute_result",
          "data": {
            "text/plain": [
              "<matplotlib.axes._subplots.AxesSubplot at 0x7f236cd55c88>"
            ]
          },
          "metadata": {
            "tags": []
          },
          "execution_count": 94
        },
        {
          "output_type": "display_data",
          "data": {
            "image/png": "[encoded data removed]",
            "text/plain": [
              "<Figure size 432x288 with 1 Axes>"
            ]
          },
          "metadata": {
            "tags": [],
            "needs_background": "light"
          }
        }
      ]
    },
    {
      "cell_type": "code",
      "metadata": {
        "id": "W-NcfvX0Ifes",
        "outputId": "a6ab9d5b-0bf3-4cbe-f74e-adb87b8e78fa",
        "colab": {
          "base_uri": "https://localhost:8080/",
          "height": 0
        }
      },
      "source": [
        "# Here the y-axis represents the mean applicant income.\n",
        "# We don't see any change in the mean income. So lets make bins for the applicant income \n",
        "# variable based on the values in it and analyze the corresponding loan status for each bin.\n",
        "\n",
        "bins = [0,2500,4000,6000,8100]\n",
        "group = ['Low', 'Average', 'High', 'Very High']\n",
        "\n",
        "train ['Income_bin'] = pd.cut (train['ApplicantIncome'], bins, labels = group)\n",
        "\n",
        "Income_bin = pd.crosstab(train['Income_bin'],train['Loan_Status'])\n",
        "Income_bin.div(Income_bin.sum(1).astype(float), axis = 0).plot(\n",
        "    kind = \"bar\",stacked = True)\n",
        "plt.xlabel('ApplicantIncome') \n",
        "P = plt.ylabel('Percentage') "
      ],
      "execution_count": 95,
      "outputs": [
        {
          "output_type": "display_data",
          "data": {
            "image/png": "[encoded data removed]",
            "text/plain": [
              "<Figure size 432x288 with 1 Axes>"
            ]
          },
          "metadata": {
            "tags": [],
            "needs_background": "light"
          }
        }
      ]
    },
    {
      "cell_type": "markdown",
      "metadata": {
        "id": "wsWn0uxTHiwY"
      },
      "source": [
        "Observations:\n",
        "\n",
        "It seems that Applicant income does not affect the chances of loan approval which contradicts our hypotheses in which we assumed that if the applicant's income is high, the chances of loan approval will also be high."
      ]
    },
    {
      "cell_type": "code",
      "metadata": {
        "id": "S9ZIL3VCIfez",
        "outputId": "d5609dbc-079f-4256-a5b5-cfa2206c7df0",
        "colab": {
          "base_uri": "https://localhost:8080/",
          "height": 0
        }
      },
      "source": [
        "# Let's analyze the co-applicant income and loan amount variables in a similar manner.\n",
        "\n",
        "bins = [0,1000,3000,42000]\n",
        "group = ['Low', 'Average', 'High']\n",
        "\n",
        "train ['Coapplicant_Income_bin'] = pd.cut (train['CoapplicantIncome'], bins, labels = group)\n",
        "\n",
        "Coapplicant_Income_bin = pd.crosstab(train['Coapplicant_Income_bin'],train['Loan_Status'])\n",
        "Coapplicant_Income_bin.div(Coapplicant_Income_bin.sum(1).astype(float), axis = 0).plot(\n",
        "    kind = \"bar\",stacked = True)\n",
        "plt.xlabel('CoapplicantIncome') \n",
        "P = plt.ylabel('Percentage') "
      ],
      "execution_count": 96,
      "outputs": [
        {
          "output_type": "display_data",
          "data": {
            "image/png": "[encoded data removed]",
            "text/plain": [
              "<Figure size 432x288 with 1 Axes>"
            ]
          },
          "metadata": {
            "tags": [],
            "needs_background": "light"
          }
        }
      ]
    },
    {
      "cell_type": "markdown",
      "metadata": {
        "id": "9sbni2ioHsH2"
      },
      "source": [
        "Observations:\n",
        "\n",
        "This shows that if the coapplicant's income is less, the chances of loan approval are high.\n",
        "But this does not look right. The possible reason behind this may be that most of the \n",
        "applicants don't have any coapplicant, so the coapplicant income for such applicants is 0\n",
        "hence the loan approval is not dependent on it."
      ]
    },
    {
      "cell_type": "code",
      "metadata": {
        "id": "grAixq5gIfe5",
        "outputId": "9f39e19d-d0c6-4364-8029-bebe4743cf20",
        "colab": {
          "base_uri": "https://localhost:8080/",
          "height": 0
        }
      },
      "source": [
        "# We can make a new variable which we will combine the applicant's and coapplicant's income \n",
        "# to visualize the combined effect of income on loan approval.\n",
        "\n",
        "train['Total_Income'] = train['ApplicantIncome'] + train['CoapplicantIncome']\n",
        "\n",
        "bins = [0,2500,4000,6000,81000]\n",
        "group = ['Low', 'Average', 'High', 'Very High']\n",
        "\n",
        "train ['Total_Income_bin'] = pd.cut (train['Total_Income'], bins, labels = group)\n",
        "\n",
        "Total_Income_bin = pd.crosstab(train['Total_Income_bin'],train['Loan_Status'])\n",
        "Total_Income_bin.div(Total_Income_bin.sum(1).astype(float), axis = 0).plot(\n",
        "    kind = \"bar\",stacked = True)\n",
        "plt.xlabel('Total_Income') \n",
        "P = plt.ylabel('Percentage') "
      ],
      "execution_count": 97,
      "outputs": [
        {
          "output_type": "display_data",
          "data": {
            "image/png": "[encoded data removed]",
            "text/plain": [
              "<Figure size 432x288 with 1 Axes>"
            ]
          },
          "metadata": {
            "tags": [],
            "needs_background": "light"
          }
        }
      ]
    },
    {
      "cell_type": "markdown",
      "metadata": {
        "id": "JdkCXUWuH3ha"
      },
      "source": [
        "Observations:\n",
        "\n",
        "We can see that proportion of loans getting approved for applicants having low total income is very less as compared to that of applicants with average high and very high income."
      ]
    },
    {
      "cell_type": "code",
      "metadata": {
        "id": "pLPUTG6MIfe_",
        "outputId": "ca6eb367-4f3d-44c3-ab67-04d0c03b4096",
        "colab": {
          "base_uri": "https://localhost:8080/",
          "height": 0
        }
      },
      "source": [
        "# Lets visualize the loan amount variable\n",
        "\n",
        "bins = [0,100,200,700]\n",
        "group = ['Low', 'Average', 'High']\n",
        "\n",
        "train ['LoanAmount_bin'] = pd.cut (train['LoanAmount'], bins, labels = group)\n",
        "\n",
        "LoanAmount_bin = pd.crosstab(train['LoanAmount_bin'],train['Loan_Status'])\n",
        "LoanAmount_bin.div(LoanAmount_bin.sum(1).astype(float), axis = 0).plot(\n",
        "    kind = \"bar\",stacked = True)\n",
        "plt.xlabel('LoanAmount') \n",
        "P = plt.ylabel('Percentage') "
      ],
      "execution_count": 98,
      "outputs": [
        {
          "output_type": "display_data",
          "data": {
            "image/png": "[encoded data removed]",
            "text/plain": [
              "<Figure size 432x288 with 1 Axes>"
            ]
          },
          "metadata": {
            "tags": [],
            "needs_background": "light"
          }
        }
      ]
    },
    {
      "cell_type": "markdown",
      "metadata": {
        "id": "wg-Xbf-IIAf8"
      },
      "source": [
        "Observations:\n",
        "\n",
        "We can see that proportion of loans getting approved is higher for low and average loan \n",
        "amount as compared to that of high loan amount which supports our hypotheses in which \n",
        "we considered that the chances of loan approval will be high when the loan amount is less."
      ]
    },
    {
      "cell_type": "code",
      "metadata": {
        "id": "V3ThGrcuIffF"
      },
      "source": [
        "# Lets drop the bins which we created for the exploration part.\n",
        "\n",
        "# We will change the 3+ in the dependents variable to 3 to make it a numerical variable.\n",
        "# We wil also convert the target variable's categories into 0 and 1 so that we can find its \n",
        "# correlation with numerical variables.\n",
        "# One more reason to do this is because few models like logistic regression takes only numeric\n",
        "# values as input.\n",
        "# Hence we will replace N with 0 , and Y with 1.\n",
        "\n",
        "train = train.drop(['Income_bin','Coapplicant_Income_bin','LoanAmount_bin',\n",
        "                    'Total_Income_bin','Total_Income'], axis = 1)\n",
        "\n",
        "train['Dependents'].replace('3+', 3, inplace = True)\n",
        "test['Dependents'].replace('3+', 3, inplace = True)\n",
        "train['Loan_Status'].replace('N', 0, inplace = True)\n",
        "train['Loan_Status'].replace('Y', 1, inplace = True)"
      ],
      "execution_count": 99,
      "outputs": []
    },
    {
      "cell_type": "code",
      "metadata": {
        "id": "tWgSpijzIffI",
        "outputId": "a8b5ec68-8fd7-41b3-914c-a0df1c92edce",
        "colab": {
          "base_uri": "https://localhost:8080/",
          "height": 0
        }
      },
      "source": [
        "# Now lets look at the correlation between all the numerical variables.\n",
        "# We wil use the heatmap to visualize the correlation.\n",
        "# Heatmaps visualize data through variations in coloring. \n",
        "# The variables with darker color means thir correlation is more.\n",
        "\n",
        "matrix = train.corr() \n",
        "f, ax = plt.subplots(figsize = (9,6))\n",
        "sns.heatmap(matrix, vmax = .8, square = True, cmap = \"BuPu\")"
      ],
      "execution_count": 100,
      "outputs": [
        {
          "output_type": "execute_result",
          "data": {
            "text/plain": [
              "<matplotlib.axes._subplots.AxesSubplot at 0x7f236d1046d8>"
            ]
          },
          "metadata": {
            "tags": []
          },
          "execution_count": 100
        },
        {
          "output_type": "display_data",
          "data": {
            "image/png": "[encoded data removed]",
            "text/plain": [
              "<Figure size 648x432 with 2 Axes>"
            ]
          },
          "metadata": {
            "tags": [],
            "needs_background": "light"
          }
        }
      ]
    },
    {
      "cell_type": "markdown",
      "metadata": {
        "id": "XiJ9hUMQILB5"
      },
      "source": [
        "Observations:\n",
        "\n",
        "We can see that the most correlated variables are :\n",
        "1. Applicant Income - Loan Amount\n",
        "2. Credit History - Loan Status\n",
        "3. Loan Amount is also correlated with Coapplicant Income"
      ]
    },
    {
      "cell_type": "markdown",
      "metadata": {
        "id": "Kw5Lbsce9k2H"
      },
      "source": [
        "## Outliers And Missing Values:\n"
      ]
    },
    {
      "cell_type": "code",
      "metadata": {
        "id": "6VEPY_pgIffN",
        "outputId": "8f02dfd0-3a0e-4c56-c428-d00c9ddda85b",
        "colab": {
          "base_uri": "https://localhost:8080/",
          "height": 0
        }
      },
      "source": [
        "# After exploring all the variables in our data, we can now impute the \n",
        "# missing values and deal with the outliers because missing data and \n",
        "# outliers can have adverse effects on the model performance.\n",
        "\n",
        "# MISSING VALUES\n",
        "# Lets list out feature-wise count of missing values.\n",
        "\n",
        "train.isnull().sum()"
      ],
      "execution_count": 101,
      "outputs": [
        {
          "output_type": "execute_result",
          "data": {
            "text/plain": [
              "Loan_ID               0\n",
              "Gender               13\n",
              "Married               3\n",
              "Dependents           15\n",
              "Education             0\n",
              "Self_Employed        32\n",
              "ApplicantIncome       0\n",
              "CoapplicantIncome     0\n",
              "LoanAmount           22\n",
              "Loan_Amount_Term     14\n",
              "Credit_History       50\n",
              "Property_Area         0\n",
              "Loan_Status           0\n",
              "dtype: int64"
            ]
          },
          "metadata": {
            "tags": []
          },
          "execution_count": 101
        }
      ]
    },
    {
      "cell_type": "markdown",
      "metadata": {
        "id": "oZYUJCZlIVX9"
      },
      "source": [
        "Observations:\n",
        "\n",
        "We can see that there are missing values in Gender, Married, Dependents, Credit History,\n",
        "Self Employed, Loan Amount and Loan Amount Term.\n",
        "\n",
        "We will deal with these missing values one by one.\n",
        "We can consider these methods to fill the missing values:\n",
        "- For Numerical Variables: Imputation using mean or median\n",
        "- For Categorical Variables: Imputation using mode"
      ]
    },
    {
      "cell_type": "code",
      "metadata": {
        "id": "XgOVUC3IIffV"
      },
      "source": [
        "train['Gender'].fillna(train['Gender'].mode()[0], inplace = True)\n",
        "train['Married'].fillna(train['Married'].mode()[0], inplace = True)\n",
        "train['Dependents'].fillna(train['Dependents'].mode()[0], inplace = True)\n",
        "train['Self_Employed'].fillna(train['Self_Employed'].mode()[0], inplace = True)\n",
        "train['Credit_History'].fillna(train['Credit_History'].mode()[0], inplace = True) "
      ],
      "execution_count": 102,
      "outputs": []
    },
    {
      "cell_type": "code",
      "metadata": {
        "id": "yi0rIBzkIffZ",
        "outputId": "548e7115-b41b-4049-93af-8b2558363567",
        "colab": {
          "base_uri": "https://localhost:8080/",
          "height": 0
        }
      },
      "source": [
        "# Now lets try to find a way to fill the missing values in Loan_Amount_Term.\n",
        "# We will look at the value count of the loan amount term variable.\n",
        "\n",
        "train['Loan_Amount_Term'].value_counts() "
      ],
      "execution_count": 103,
      "outputs": [
        {
          "output_type": "execute_result",
          "data": {
            "text/plain": [
              "360.0    512\n",
              "180.0     44\n",
              "480.0     15\n",
              "300.0     13\n",
              "84.0       4\n",
              "240.0      4\n",
              "120.0      3\n",
              "36.0       2\n",
              "60.0       2\n",
              "12.0       1\n",
              "Name: Loan_Amount_Term, dtype: int64"
            ]
          },
          "metadata": {
            "tags": []
          },
          "execution_count": 103
        }
      ]
    },
    {
      "cell_type": "markdown",
      "metadata": {
        "id": "w6Xb5syPIj2t"
      },
      "source": [
        "Observations:\n",
        "\n",
        "We can see that in the loan amount term variable, the value '360' is the most repeated.\n",
        "So lets replace the missing values in this variable using the mode of this variable."
      ]
    },
    {
      "cell_type": "code",
      "metadata": {
        "id": "3QOuMJGhIfff"
      },
      "source": [
        "train['Loan_Amount_Term'].fillna(train['Loan_Amount_Term'].mode()[0], inplace = True) "
      ],
      "execution_count": 104,
      "outputs": []
    },
    {
      "cell_type": "code",
      "metadata": {
        "id": "2lFK3e8vIffi"
      },
      "source": [
        "# Because Loan Amount is a numerical variable, we can use mean or median to \n",
        "# impute the missing values. We will use median to fill the null values.\n",
        "\n",
        "train['LoanAmount'].fillna(train['LoanAmount'].median(), inplace = True) "
      ],
      "execution_count": 105,
      "outputs": []
    },
    {
      "cell_type": "code",
      "metadata": {
        "id": "iTnPP7jGIffq",
        "outputId": "dd3facb2-9834-4a21-e3a4-c842afbbc3a5",
        "colab": {
          "base_uri": "https://localhost:8080/",
          "height": 0
        }
      },
      "source": [
        "# Now lets see whether all the missing values are filled in the dataset\n",
        "\n",
        "train.isnull().sum() "
      ],
      "execution_count": 106,
      "outputs": [
        {
          "output_type": "execute_result",
          "data": {
            "text/plain": [
              "Loan_ID              0\n",
              "Gender               0\n",
              "Married              0\n",
              "Dependents           0\n",
              "Education            0\n",
              "Self_Employed        0\n",
              "ApplicantIncome      0\n",
              "CoapplicantIncome    0\n",
              "LoanAmount           0\n",
              "Loan_Amount_Term     0\n",
              "Credit_History       0\n",
              "Property_Area        0\n",
              "Loan_Status          0\n",
              "dtype: int64"
            ]
          },
          "metadata": {
            "tags": []
          },
          "execution_count": 106
        }
      ]
    },
    {
      "cell_type": "markdown",
      "metadata": {
        "id": "yTTT8xckIuJR"
      },
      "source": [
        "Observations:\n",
        "\n",
        "We can see that all missing values in the train dataset have been filled.\n",
        "\n",
        "Now lets fill all the missing values in the test dataset as well."
      ]
    },
    {
      "cell_type": "code",
      "metadata": {
        "id": "yBOIj_c6Iffz",
        "outputId": "578c7013-6cc8-4d2b-e5fa-878fd1ca7550",
        "colab": {
          "base_uri": "https://localhost:8080/",
          "height": 0
        }
      },
      "source": [
        "test.isnull().sum() "
      ],
      "execution_count": 107,
      "outputs": [
        {
          "output_type": "execute_result",
          "data": {
            "text/plain": [
              "Loan_ID               0\n",
              "Gender               11\n",
              "Married               0\n",
              "Dependents           10\n",
              "Education             0\n",
              "Self_Employed        23\n",
              "ApplicantIncome       0\n",
              "CoapplicantIncome     0\n",
              "LoanAmount            5\n",
              "Loan_Amount_Term      6\n",
              "Credit_History       29\n",
              "Property_Area         0\n",
              "dtype: int64"
            ]
          },
          "metadata": {
            "tags": []
          },
          "execution_count": 107
        }
      ]
    },
    {
      "cell_type": "code",
      "metadata": {
        "id": "Y6xjgcJEIff3"
      },
      "source": [
        "test['Gender'].fillna(train['Gender'].mode()[0], inplace = True)\n",
        "test['Dependents'].fillna(train['Dependents'].mode()[0], inplace = True)\n",
        "test['Self_Employed'].fillna(train['Self_Employed'].mode()[0], inplace = True)\n",
        "test['LoanAmount'].fillna(train['LoanAmount'].mode()[0], inplace = True)\n",
        "test['Loan_Amount_Term'].fillna(train['Loan_Amount_Term'].mode()[0], inplace = True)\n",
        "test['Credit_History'].fillna(train['Credit_History'].mode()[0], inplace = True) "
      ],
      "execution_count": 108,
      "outputs": []
    },
    {
      "cell_type": "code",
      "metadata": {
        "id": "lbQaNeVJIff8",
        "outputId": "22c0d978-c6a5-4fc6-8dc5-6eb7b7f63a9c",
        "colab": {
          "base_uri": "https://localhost:8080/",
          "height": 0
        }
      },
      "source": [
        "test.isnull().sum() \n",
        "# Observations:\n",
        "\n",
        "# We can see that all missing values in the train dataset have been filled."
      ],
      "execution_count": 109,
      "outputs": [
        {
          "output_type": "execute_result",
          "data": {
            "text/plain": [
              "Loan_ID              0\n",
              "Gender               0\n",
              "Married              0\n",
              "Dependents           0\n",
              "Education            0\n",
              "Self_Employed        0\n",
              "ApplicantIncome      0\n",
              "CoapplicantIncome    0\n",
              "LoanAmount           0\n",
              "Loan_Amount_Term     0\n",
              "Credit_History       0\n",
              "Property_Area        0\n",
              "dtype: int64"
            ]
          },
          "metadata": {
            "tags": []
          },
          "execution_count": 109
        }
      ]
    },
    {
      "cell_type": "code",
      "metadata": {
        "id": "ezpPExPIIfgC",
        "outputId": "4e9ffe1a-bf78-4169-dc6b-d193b8b1289b",
        "colab": {
          "base_uri": "https://localhost:8080/",
          "height": 0
        }
      },
      "source": [
        "# OUTLIERS\n",
        "\n",
        "# As we saw earlier in univariate analysis, Loan Amount contains outliers so we have to \n",
        "# deal with them as they affect the distribution of the data.\n",
        "# Due to these outliers, the bulk of data in the loan amount is at the left and the right \n",
        "# tail is longer. This is called right skewness.\n",
        "\n",
        "# One way to remove the skewness is by doing the log transformation.\n",
        "# As we take the log transformation, it does not affect the smaller values much, \n",
        "# but reduces the larger values. So, we get a distribution similar to normal distribution.\n",
        "\n",
        "# Lets visualize the effect of log transformation.\n",
        "# We will do similar changes to the test file simultaneously.\n",
        "\n",
        "train['LoanAmount_log'] = np.log(train['LoanAmount'])\n",
        "train['LoanAmount_log'].hist(bins = 20)\n",
        "test['LoanAmount_log'] = np.log(test['LoanAmount']) "
      ],
      "execution_count": 110,
      "outputs": [
        {
          "output_type": "display_data",
          "data": {
            "image/png": "[encoded data removed]",
            "text/plain": [
              "<Figure size 432x288 with 1 Axes>"
            ]
          },
          "metadata": {
            "tags": [],
            "needs_background": "light"
          }
        }
      ]
    },
    {
      "cell_type": "markdown",
      "metadata": {
        "id": "dZf8G9qWI5uR"
      },
      "source": [
        "Observations:\n",
        "\n",
        "We can see that now the distribution looks much closer to normal and effect of extreme \n",
        "values has been significantly subsided."
      ]
    },
    {
      "cell_type": "markdown",
      "metadata": {
        "id": "wiHGKw4B9Fdb"
      },
      "source": [
        "# Model Building "
      ]
    },
    {
      "cell_type": "markdown",
      "metadata": {
        "id": "qaHimL3pCEfX"
      },
      "source": [
        "## Model Building : Part I\n",
        "\n"
      ]
    },
    {
      "cell_type": "code",
      "metadata": {
        "id": "pO7v-B0GI93a"
      },
      "source": [
        "# Let's drop the Loan_ID variable as id doesn't affect on the loan status.\n",
        "# We will do the same changes to the test dataset which we did for the training dataset.\n",
        "\n",
        "train = train.drop('Loan_ID', axis = 1)\n",
        "test = test.drop('Loan_ID', axis = 1)"
      ],
      "execution_count": 111,
      "outputs": []
    },
    {
      "cell_type": "code",
      "metadata": {
        "id": "t_jibFpcI0sz"
      },
      "source": [
        "# Let's drop our target variable from the train dataset and save it in another dataset.\n",
        "\n",
        "X = train.drop ('Loan_Status', 1)\n",
        "y = train.Loan_Status"
      ],
      "execution_count": 112,
      "outputs": []
    },
    {
      "cell_type": "code",
      "metadata": {
        "id": "nom8Y665NnMs"
      },
      "source": [
        "# We will now make dummy variables for the categorical variables.\n",
        "# Dummy variables turn categorical variables into a series of 0 and 1, making them\n",
        "# a lot easier to quantify and compare.\n",
        "\n",
        "X = pd.get_dummies(X)\n",
        "train = pd.get_dummies(train)\n",
        "test = pd.get_dummies(test)"
      ],
      "execution_count": 113,
      "outputs": []
    },
    {
      "cell_type": "code",
      "metadata": {
        "id": "J6KfKsfWViYE"
      },
      "source": [
        "# We need to split our training dataset into train and validation datasets.\n",
        "# We can train the model on this train part and use that to make predictions for the \n",
        "# validation part. In this way, we can validate our predictions as we have the true predictions\n",
        "# for the validation part (whuch we dont yet have fro the test dataset.)\n",
        "\n",
        "# We will use the train_test_split function to divide our train dataset.\n",
        "\n",
        "from sklearn.model_selection import train_test_split\n",
        "x_train, x_cv, y_train, y_cv = train_test_split (X,y, test_size = 0.3)"
      ],
      "execution_count": 114,
      "outputs": []
    },
    {
      "cell_type": "code",
      "metadata": {
        "id": "dWRK-qAmX2_v",
        "outputId": "81b14027-44c7-4bea-bb3a-06d47f55e59d",
        "colab": {
          "base_uri": "https://localhost:8080/",
          "height": 85
        }
      },
      "source": [
        "# The dataset has been divided into training and validation sets.\n",
        "# Importing Logistic Regression and accuracy score and fitting the Logistic Regression Model.\n",
        "\n",
        "from sklearn.linear_model import LogisticRegression\n",
        "from sklearn.metrics import accuracy_score\n",
        "\n",
        "model = LogisticRegression()\n",
        "model.fit (x_train, y_train)\n",
        "\n",
        "LogisticRegression (C = 1.0, class_weight = None, dual = False, fit_intercept = True,\n",
        "                    intercept_scaling = 1, max_iter = 100, multi_class = 'ovr', n_jobs = 1,\n",
        "                    penalty = '12', random_state = 1, solver = 'liblinear', tol = 0.0001,\n",
        "                    verbose = 0, warm_start = False)"
      ],
      "execution_count": 115,
      "outputs": [
        {
          "output_type": "execute_result",
          "data": {
            "text/plain": [
              "LogisticRegression(C=1.0, class_weight=None, dual=False, fit_intercept=True,\n",
              "                   intercept_scaling=1, l1_ratio=None, max_iter=100,\n",
              "                   multi_class='ovr', n_jobs=1, penalty='12', random_state=1,\n",
              "                   solver='liblinear', tol=0.0001, verbose=0, warm_start=False)"
            ]
          },
          "metadata": {
            "tags": []
          },
          "execution_count": 115
        }
      ]
    },
    {
      "cell_type": "markdown",
      "metadata": {
        "id": "4RBbEn8vfUZA"
      },
      "source": [
        "Here the C parameter represents inverse of regularization strength. Regularization is applying a penalty to increasing the magnitude of parameter values in order to reduce overfitting. Smaller values of C specify stonger regularization."
      ]
    },
    {
      "cell_type": "code",
      "metadata": {
        "id": "neTegqa4A1kg"
      },
      "source": [
        "# Let's predict the Loan_Status for validation set and calculate its accuracy.\n",
        "\n",
        "pred_cv = model.predict(x_cv)"
      ],
      "execution_count": 116,
      "outputs": []
    },
    {
      "cell_type": "code",
      "metadata": {
        "id": "duqX5vg8knko",
        "outputId": "331d37db-d2bd-40a3-98f5-0983ad5d2702",
        "colab": {
          "base_uri": "https://localhost:8080/",
          "height": 34
        }
      },
      "source": [
        "# Let's calculate how accurate our predictions are by calculating the accuracy.\n",
        "\n",
        "accuracy_score(y_cv,pred_cv)"
      ],
      "execution_count": 117,
      "outputs": [
        {
          "output_type": "execute_result",
          "data": {
            "text/plain": [
              "0.7567567567567568"
            ]
          },
          "metadata": {
            "tags": []
          },
          "execution_count": 117
        }
      ]
    },
    {
      "cell_type": "markdown",
      "metadata": {
        "id": "34HXA-SPlT20"
      },
      "source": [
        "Observation:\n",
        "\n",
        "Our model has an accuracy score of 80%."
      ]
    },
    {
      "cell_type": "code",
      "metadata": {
        "id": "zOm5_EyBk4K_"
      },
      "source": [
        "# Lets make predictions for the test dataset\n",
        "\n",
        "pred_test = model.predict(test)"
      ],
      "execution_count": 118,
      "outputs": []
    },
    {
      "cell_type": "code",
      "metadata": {
        "id": "akHGBbKrlq6A"
      },
      "source": [
        "# Importing the submission file which we have to submit on the solution checker.\n",
        "\n",
        "submission = pd.read_csv (\"sample_submission_49d68Cx.csv\")"
      ],
      "execution_count": 119,
      "outputs": []
    },
    {
      "cell_type": "code",
      "metadata": {
        "id": "RPHHLg6gmCiN"
      },
      "source": [
        "# We only need the Loan ID and the corresponding Loan Status for trhe final submission.\n",
        "# Filling these columns with the Loan ID of test dataset and the predictions that we made.\n",
        "\n",
        "submission['Loan_Status'] = pred_test\n",
        "submission['Loan_ID'] = test_original ['Loan_ID']"
      ],
      "execution_count": 120,
      "outputs": []
    },
    {
      "cell_type": "code",
      "metadata": {
        "id": "Eeo_BHSjLhA5"
      },
      "source": [
        "# Converting 1 and 0 to Y and N.\n",
        "submission['Loan_Status'].replace(0, 'N', inplace = True)\n",
        "submission['Loan_Status'].replace(1, 'Y', inplace = True)"
      ],
      "execution_count": 121,
      "outputs": []
    },
    {
      "cell_type": "code",
      "metadata": {
        "id": "bBDSYHaiMGVg"
      },
      "source": [
        "# Converting the submission to csv format and make submission and to check the accuracy\n",
        "\n",
        "pd.DataFrame(submission, columns = ['Loan_ID', 'Loan_Status']).to_csv('logistic.csv')"
      ],
      "execution_count": 122,
      "outputs": []
    },
    {
      "cell_type": "markdown",
      "metadata": {
        "id": "YvpRpnjxN__1"
      },
      "source": [
        "Instead of creating a validation set, we can also make use of cross validation to validate our predictions."
      ]
    },
    {
      "cell_type": "code",
      "metadata": {
        "id": "-nHSBurSNOpp"
      },
      "source": [
        "ss = pd.read_csv(\"logistic.csv\")"
      ],
      "execution_count": 123,
      "outputs": []
    },
    {
      "cell_type": "code",
      "metadata": {
        "id": "M_-xyrDyQVxB",
        "outputId": "f0db8487-8e2b-430d-df92-dc67b654e8b7",
        "colab": {
          "base_uri": "https://localhost:8080/",
          "height": 204
        }
      },
      "source": [
        "ss.head()"
      ],
      "execution_count": 124,
      "outputs": [
        {
          "output_type": "execute_result",
          "data": {
            "text/html": [
              "<div>\n",
              "<style scoped>\n",
              "    .dataframe tbody tr th:only-of-type {\n",
              "        vertical-align: middle;\n",
              "    }\n",
              "\n",
              "    .dataframe tbody tr th {\n",
              "        vertical-align: top;\n",
              "    }\n",
              "\n",
              "    .dataframe thead th {\n",
              "        text-align: right;\n",
              "    }\n",
              "</style>\n",
              "<table border=\"1\" class=\"dataframe\">\n",
              "  <thead>\n",
              "    <tr style=\"text-align: right;\">\n",
              "      <th></th>\n",
              "      <th>Unnamed: 0</th>\n",
              "      <th>Loan_ID</th>\n",
              "      <th>Loan_Status</th>\n",
              "    </tr>\n",
              "  </thead>\n",
              "  <tbody>\n",
              "    <tr>\n",
              "      <th>0</th>\n",
              "      <td>0</td>\n",
              "      <td>LP001015</td>\n",
              "      <td>Y</td>\n",
              "    </tr>\n",
              "    <tr>\n",
              "      <th>1</th>\n",
              "      <td>1</td>\n",
              "      <td>LP001022</td>\n",
              "      <td>Y</td>\n",
              "    </tr>\n",
              "    <tr>\n",
              "      <th>2</th>\n",
              "      <td>2</td>\n",
              "      <td>LP001031</td>\n",
              "      <td>Y</td>\n",
              "    </tr>\n",
              "    <tr>\n",
              "      <th>3</th>\n",
              "      <td>3</td>\n",
              "      <td>LP001035</td>\n",
              "      <td>Y</td>\n",
              "    </tr>\n",
              "    <tr>\n",
              "      <th>4</th>\n",
              "      <td>4</td>\n",
              "      <td>LP001051</td>\n",
              "      <td>Y</td>\n",
              "    </tr>\n",
              "  </tbody>\n",
              "</table>\n",
              "</div>"
            ],
            "text/plain": [
              "   Unnamed: 0   Loan_ID Loan_Status\n",
              "0           0  LP001015           Y\n",
              "1           1  LP001022           Y\n",
              "2           2  LP001031           Y\n",
              "3           3  LP001035           Y\n",
              "4           4  LP001051           Y"
            ]
          },
          "metadata": {
            "tags": []
          },
          "execution_count": 124
        }
      ]
    },
    {
      "cell_type": "code",
      "metadata": {
        "id": "OdU3PGiDQlLW",
        "outputId": "c9fad81f-ac2b-441c-c6e2-312f45bc7089",
        "colab": {
          "base_uri": "https://localhost:8080/",
          "height": 204
        }
      },
      "source": [
        "submission.head()"
      ],
      "execution_count": 125,
      "outputs": [
        {
          "output_type": "execute_result",
          "data": {
            "text/html": [
              "<div>\n",
              "<style scoped>\n",
              "    .dataframe tbody tr th:only-of-type {\n",
              "        vertical-align: middle;\n",
              "    }\n",
              "\n",
              "    .dataframe tbody tr th {\n",
              "        vertical-align: top;\n",
              "    }\n",
              "\n",
              "    .dataframe thead th {\n",
              "        text-align: right;\n",
              "    }\n",
              "</style>\n",
              "<table border=\"1\" class=\"dataframe\">\n",
              "  <thead>\n",
              "    <tr style=\"text-align: right;\">\n",
              "      <th></th>\n",
              "      <th>Loan_ID</th>\n",
              "      <th>Loan_Status</th>\n",
              "    </tr>\n",
              "  </thead>\n",
              "  <tbody>\n",
              "    <tr>\n",
              "      <th>0</th>\n",
              "      <td>LP001015</td>\n",
              "      <td>Y</td>\n",
              "    </tr>\n",
              "    <tr>\n",
              "      <th>1</th>\n",
              "      <td>LP001022</td>\n",
              "      <td>Y</td>\n",
              "    </tr>\n",
              "    <tr>\n",
              "      <th>2</th>\n",
              "      <td>LP001031</td>\n",
              "      <td>Y</td>\n",
              "    </tr>\n",
              "    <tr>\n",
              "      <th>3</th>\n",
              "      <td>LP001035</td>\n",
              "      <td>Y</td>\n",
              "    </tr>\n",
              "    <tr>\n",
              "      <th>4</th>\n",
              "      <td>LP001051</td>\n",
              "      <td>Y</td>\n",
              "    </tr>\n",
              "  </tbody>\n",
              "</table>\n",
              "</div>"
            ],
            "text/plain": [
              "    Loan_ID Loan_Status\n",
              "0  LP001015           Y\n",
              "1  LP001022           Y\n",
              "2  LP001031           Y\n",
              "3  LP001035           Y\n",
              "4  LP001051           Y"
            ]
          },
          "metadata": {
            "tags": []
          },
          "execution_count": 125
        }
      ]
    },
    {
      "cell_type": "markdown",
      "metadata": {
        "id": "02JRQ5OtithF"
      },
      "source": [
        "## Model Building: Part II"
      ]
    },
    {
      "cell_type": "markdown",
      "metadata": {
        "id": "xQnT4IYNiGUx"
      },
      "source": [
        "We will build the following models in this section:\n",
        "- Logistic Regression\n",
        "- Decision Tree\n",
        "- Random Forest\n",
        "- XGBoost"
      ]
    },
    {
      "cell_type": "code",
      "metadata": {
        "id": "fBLeTqhDQrS-"
      },
      "source": [
        "# Let's prepare the data for feeding into the models\n",
        "\n",
        "X = train.drop('Loan_Status', 1)\n",
        "y = train.Loan_Status                # Save target variable in separate dataset"
      ],
      "execution_count": 126,
      "outputs": []
    },
    {
      "cell_type": "markdown",
      "metadata": {
        "id": "LYFWRwtSjggh"
      },
      "source": [
        "### Logistic Regression"
      ]
    },
    {
      "cell_type": "code",
      "metadata": {
        "id": "n1un9x-mjeyM",
        "outputId": "4060b0a6-ebf2-4669-97c4-15b4a702bc86",
        "colab": {
          "base_uri": "https://localhost:8080/",
          "height": 204
        }
      },
      "source": [
        "from sklearn.model_selection import StratifiedKFold\n",
        "from sklearn.linear_model import LogisticRegression\n",
        "\n",
        "i = 1\n",
        "kf = StratifiedKFold(n_splits = 5, random_state = 1, shuffle = True)\n",
        "for train_index, test_index in kf.split(X,y):\n",
        "  print ('\\n{} of kfold {}'.format (i,kf.n_splits))\n",
        "  xtr,xvl = X.loc[train_index], X.loc[test_index]\n",
        "  ytr,yvl = y[train_index], y[test_index]\n",
        "\n",
        "model = LogisticRegression(random_state=1)\n",
        "model.fit(xtr, ytr)\n",
        "pred_test = model.predict(xvl)\n",
        "score = accuracy_score (yvl, pred_test)\n",
        "print('accuracy_score', score)\n",
        "\n",
        "i+=1\n",
        "pred_test = model.predict(test)\n",
        "pred = model.predict_proba (xvl)[:,1]"
      ],
      "execution_count": 152,
      "outputs": [
        {
          "output_type": "stream",
          "text": [
            "\n",
            "1 of kfold 5\n",
            "\n",
            "1 of kfold 5\n",
            "\n",
            "1 of kfold 5\n",
            "\n",
            "1 of kfold 5\n",
            "\n",
            "1 of kfold 5\n",
            "accuracy_score 0.7950819672131147\n"
          ],
          "name": "stdout"
        }
      ]
    },
    {
      "cell_type": "markdown",
      "metadata": {
        "id": "vJqcTpGbo7nm"
      },
      "source": [
        "Observation:\n",
        "\n",
        "The mean validation accuracy for this model is 0.795"
      ]
    },
    {
      "cell_type": "code",
      "metadata": {
        "id": "ytchN1Uklbt9"
      },
      "source": [
        "submission['Loan_Status'] = pred_test       #Filling Loan_Status with predictions\n",
        "submission['Loan_ID'] = test_original['Loan_ID'] # Filling Loan_ID with test Loan_ID"
      ],
      "execution_count": 140,
      "outputs": []
    },
    {
      "cell_type": "code",
      "metadata": {
        "id": "WDWuAOHoq4bh"
      },
      "source": [
        "# Replacing 0 and 1 with N and Y\n",
        "\n",
        "submission['Loan_Status'].replace(0, 'N', inplace = True)\n",
        "submission['Loan_Status'].replace(1, 'Y', inplace = True)"
      ],
      "execution_count": 142,
      "outputs": []
    },
    {
      "cell_type": "code",
      "metadata": {
        "id": "1HeJGEtvr5wB"
      },
      "source": [
        "# Converting submission file to .csv format\n",
        "pd.DataFrame(submission, columns=['Loan_ID', 'Loan_Status']).to_csv('Log2.csv')"
      ],
      "execution_count": 143,
      "outputs": []
    },
    {
      "cell_type": "markdown",
      "metadata": {
        "id": "5pwvCcVZxMHV"
      },
      "source": [
        "### Decision Tree"
      ]
    },
    {
      "cell_type": "markdown",
      "metadata": {
        "id": "7jddw8eOxduS"
      },
      "source": [
        "This is a type of supervised learning algorithm (having a pre-defined target variable) that is mostly used in classification problems.\n",
        "\n",
        "Here, we split the population or sample into two or more homogeneous sets ( or sub-populations) based on most significant splitter / differentiator in input variables.\n",
        "\n",
        "Decision Tree uses multiple algorithms to decide to split a node in two or more sub-nodes. The creation of sub-nodes increases the homogeneity of resultant sub-nodes. In other words, we can say that purity of the node increases with respect to the target variable."
      ]
    },
    {
      "cell_type": "code",
      "metadata": {
        "id": "SPaPDzi4sYFH"
      },
      "source": [
        "from sklearn import tree"
      ],
      "execution_count": 150,
      "outputs": []
    },
    {
      "cell_type": "code",
      "metadata": {
        "id": "hdEK79BXyZpp",
        "outputId": "94ab8405-0876-4a18-84b8-ff08c9cf9ff0",
        "colab": {
          "base_uri": "https://localhost:8080/",
          "height": 204
        }
      },
      "source": [
        "# Lets fit the decision tree model with 5 folds of cross validation\n",
        "\n",
        "i = 1\n",
        "kf = StratifiedKFold(n_splits = 5, random_state = 1, shuffle = True)\n",
        "for train_index, test_index in kf.split(X,y):\n",
        "  print ('\\n{} of kfold {}'.format (i,kf.n_splits))\n",
        "xtr,xvl = X.loc[train_index], X.loc[test_index]\n",
        "ytr,yvl = y[train_index], y[test_index]\n",
        "model = tree.DecisionTreeClassifier(random_state=1)\n",
        "model.fit(xtr, ytr)\n",
        "pred_test = model.predict(xvl)\n",
        "score = accuracy_score (yvl, pred_test)\n",
        "print('accuracy_score', score)\n",
        "i+=1\n",
        "pred_test = model.predict(test)"
      ],
      "execution_count": 153,
      "outputs": [
        {
          "output_type": "stream",
          "text": [
            "\n",
            "1 of kfold 5\n",
            "\n",
            "1 of kfold 5\n",
            "\n",
            "1 of kfold 5\n",
            "\n",
            "1 of kfold 5\n",
            "\n",
            "1 of kfold 5\n",
            "accuracy_score 0.6721311475409836\n"
          ],
          "name": "stdout"
        }
      ]
    },
    {
      "cell_type": "markdown",
      "metadata": {
        "id": "KtAKkCcLzjck"
      },
      "source": [
        "Observation:\n",
        "\n",
        "The mean validation accuracy for this model is 0.67"
      ]
    },
    {
      "cell_type": "code",
      "metadata": {
        "id": "9XQSpQL4zEYV"
      },
      "source": [
        "submission['Loan_Status'] = pred_test       #Filling Loan_Status with predictions\n",
        "submission['Loan_ID'] = test_original['Loan_ID'] # Filling Loan_ID with test Loan_ID\n",
        "\n",
        "# Replacing 0 and 1 with N and Y\n",
        "\n",
        "submission['Loan_Status'].replace(0, 'N', inplace = True)\n",
        "submission['Loan_Status'].replace(1, 'Y', inplace = True)\n",
        "\n",
        "# Converting submission file to .csv format\n",
        "pd.DataFrame(submission, columns=['Loan_ID', 'Loan_Status']).to_csv('DecisionTree.csv')"
      ],
      "execution_count": 154,
      "outputs": []
    },
    {
      "cell_type": "markdown",
      "metadata": {
        "id": "5hxTL5v00ReO"
      },
      "source": [
        "Observation:\n",
        "\n",
        "We got a higher accuracy score from the logistic regression model (0.795) than from the Decision Tree model(0.67).\n",
        "\n",
        "Lets build another model to try improve our model accuracy"
      ]
    },
    {
      "cell_type": "markdown",
      "metadata": {
        "id": "NxMXxXyt0120"
      },
      "source": [
        "### Random Forest"
      ]
    },
    {
      "cell_type": "markdown",
      "metadata": {
        "id": "wc2gStad07q8"
      },
      "source": [
        "- Random Forest is a tree based bootstrapping algorithm wherein a certain no. of weak learners(Decision Trees) are combined to make a powerful prediction model.\n",
        "- For every individual learner, a random sample of rows and a few randomly chosen variables are used to build a decision tree model.\n",
        "- Final prediction can be a function of all the predictions made by the individual learners.\n",
        "- Incase of a regression problem, the final prediction can be the mean of all the predictions."
      ]
    },
    {
      "cell_type": "code",
      "metadata": {
        "id": "_wBEXuTd06bq"
      },
      "source": [
        "from sklearn.ensemble import RandomForestClassifier"
      ],
      "execution_count": 155,
      "outputs": []
    },
    {
      "cell_type": "code",
      "metadata": {
        "id": "QCc91pJo06p-",
        "outputId": "786d7583-bcfd-4e57-cd34-4827b4fade74",
        "colab": {
          "base_uri": "https://localhost:8080/",
          "height": 204
        }
      },
      "source": [
        "i = 1\n",
        "kf = StratifiedKFold(n_splits = 5, random_state = 1, shuffle = True)\n",
        "for train_index, test_index in kf.split(X,y):\n",
        "  print ('\\n{} of kfold {}'.format (i,kf.n_splits))\n",
        "xtr,xvl = X.loc[train_index], X.loc[test_index]\n",
        "ytr,yvl = y[train_index], y[test_index]\n",
        "\n",
        "model = RandomForestClassifier(random_state=1, max_depth = 10)\n",
        "model.fit(xtr, ytr)\n",
        "pred_test = model.predict(xvl)\n",
        "score = accuracy_score (yvl, pred_test)\n",
        "print('accuracy_score', score)\n",
        "i+=1\n",
        "pred_test = model.predict(test)"
      ],
      "execution_count": 156,
      "outputs": [
        {
          "output_type": "stream",
          "text": [
            "\n",
            "1 of kfold 5\n",
            "\n",
            "1 of kfold 5\n",
            "\n",
            "1 of kfold 5\n",
            "\n",
            "1 of kfold 5\n",
            "\n",
            "1 of kfold 5\n",
            "accuracy_score 0.7540983606557377\n"
          ],
          "name": "stdout"
        }
      ]
    },
    {
      "cell_type": "markdown",
      "metadata": {
        "id": "WDLe7Dxc2UNm"
      },
      "source": [
        "Observation:\n",
        "\n",
        "The mean validation accuracy for this model is 0.75"
      ]
    },
    {
      "cell_type": "markdown",
      "metadata": {
        "id": "txSk-s-c2bTz"
      },
      "source": [
        "Lets try to improve the accuracy by tuning the hyperparameters for this model.\n",
        "\n",
        "We will use grid search to get the optimized values of hyper parameters. It is a way of selecting the best of a family of hyperparameters, parametrized by a grid of parameters.\n",
        "\n",
        "Lets tune the max_depth and n_estimators parameters.\n",
        "\n",
        "- **max_depth** decides the maximum depth of the tree\n",
        "- **n_estimators** decides the number of trees that will be used in random forest model"
      ]
    },
    {
      "cell_type": "code",
      "metadata": {
        "id": "gXv6B2gg0EkU"
      },
      "source": [
        "from sklearn.model_selection import GridSearchCV"
      ],
      "execution_count": 157,
      "outputs": []
    },
    {
      "cell_type": "code",
      "metadata": {
        "id": "6KaI-3xh3bF6"
      },
      "source": [
        "# Provide range for max_depth from 1 to 20 with an interval of 2 from 1 to 200 with\n",
        "# an interval of 20 fro n_estimators\n",
        "\n",
        "paramgrid = {'max_depth': list(range(1, 20, 2)), 'n_estimators': list(range(1, 200, 20))}\n",
        "\n",
        "grid_search = GridSearchCV(RandomForestClassifier(random_state=1), paramgrid)"
      ],
      "execution_count": 158,
      "outputs": []
    },
    {
      "cell_type": "code",
      "metadata": {
        "id": "_kCwP9154gYd"
      },
      "source": [
        "from sklearn.model_selection import train_test_split\n",
        "x_train, x_cv, y_train, y_cv = train_test_split(X,y, test_size = 0.3, random_state = 1)"
      ],
      "execution_count": 159,
      "outputs": []
    },
    {
      "cell_type": "code",
      "metadata": {
        "id": "FuiEF2FF5Kwu",
        "outputId": "c023220f-7625-49c1-b76a-8367e49120d4",
        "colab": {
          "base_uri": "https://localhost:8080/",
          "height": 374
        }
      },
      "source": [
        "# Fit the grid search model\n",
        "grid_search.fit(x_train,y_train)"
      ],
      "execution_count": 160,
      "outputs": [
        {
          "output_type": "execute_result",
          "data": {
            "text/plain": [
              "GridSearchCV(cv=None, error_score=nan,\n",
              "             estimator=RandomForestClassifier(bootstrap=True, ccp_alpha=0.0,\n",
              "                                              class_weight=None,\n",
              "                                              criterion='gini', max_depth=None,\n",
              "                                              max_features='auto',\n",
              "                                              max_leaf_nodes=None,\n",
              "                                              max_samples=None,\n",
              "                                              min_impurity_decrease=0.0,\n",
              "                                              min_impurity_split=None,\n",
              "                                              min_samples_leaf=1,\n",
              "                                              min_samples_split=2,\n",
              "                                              min_weight_fraction_leaf=0.0,\n",
              "                                              n_estimators=100, n_jobs=None,\n",
              "                                              oob_score=False, random_state=1,\n",
              "                                              verbose=0, warm_start=False),\n",
              "             iid='deprecated', n_jobs=None,\n",
              "             param_grid={'max_depth': [1, 3, 5, 7, 9, 11, 13, 15, 17, 19],\n",
              "                         'n_estimators': [1, 21, 41, 61, 81, 101, 121, 141, 161,\n",
              "                                          181]},\n",
              "             pre_dispatch='2*n_jobs', refit=True, return_train_score=False,\n",
              "             scoring=None, verbose=0)"
            ]
          },
          "metadata": {
            "tags": []
          },
          "execution_count": 160
        }
      ]
    },
    {
      "cell_type": "code",
      "metadata": {
        "id": "Bsi5KVY65Vj8",
        "outputId": "07ecbf47-7205-46dc-d4c5-a257f5e1a7cf",
        "colab": {
          "base_uri": "https://localhost:8080/",
          "height": 153
        }
      },
      "source": [
        "# Estimating the optimized value\n",
        "grid_search.best_estimator_"
      ],
      "execution_count": 161,
      "outputs": [
        {
          "output_type": "execute_result",
          "data": {
            "text/plain": [
              "RandomForestClassifier(bootstrap=True, ccp_alpha=0.0, class_weight=None,\n",
              "                       criterion='gini', max_depth=7, max_features='auto',\n",
              "                       max_leaf_nodes=None, max_samples=None,\n",
              "                       min_impurity_decrease=0.0, min_impurity_split=None,\n",
              "                       min_samples_leaf=1, min_samples_split=2,\n",
              "                       min_weight_fraction_leaf=0.0, n_estimators=41,\n",
              "                       n_jobs=None, oob_score=False, random_state=1, verbose=0,\n",
              "                       warm_start=False)"
            ]
          },
          "metadata": {
            "tags": []
          },
          "execution_count": 161
        }
      ]
    },
    {
      "cell_type": "markdown",
      "metadata": {
        "id": "hiVnhMoi6xTj"
      },
      "source": [
        "Observation:\n",
        "\n",
        "The optimized value for the max_depth variable is **7** and for n_estimators is **41**.\n",
        "\n",
        "Now let's build the model using these optimized values."
      ]
    },
    {
      "cell_type": "code",
      "metadata": {
        "id": "Xty-X--s6fF2",
        "outputId": "8565b09b-306b-46b6-d593-bb8f7be2a1bf",
        "colab": {
          "base_uri": "https://localhost:8080/",
          "height": 204
        }
      },
      "source": [
        "i = 1\n",
        "kf = StratifiedKFold(n_splits = 5, random_state = 1, shuffle = True)\n",
        "for train_index, test_index in kf.split(X,y):\n",
        "  print ('\\n{} of kfold {}'.format (i,kf.n_splits))\n",
        "xtr,xvl = X.loc[train_index], X.loc[test_index]\n",
        "ytr,yvl = y[train_index], y[test_index]\n",
        "\n",
        "model = RandomForestClassifier(random_state=1, max_depth = 3, n_estimators=41)\n",
        "model.fit(xtr, ytr)\n",
        "pred_test = model.predict(xvl)\n",
        "score = accuracy_score (yvl, pred_test)\n",
        "print('accuracy_score', score)\n",
        "i+=1\n",
        "pred_test = model.predict(test)\n",
        "pred2 = model.predict_proba(test)[:,1]"
      ],
      "execution_count": 162,
      "outputs": [
        {
          "output_type": "stream",
          "text": [
            "\n",
            "1 of kfold 5\n",
            "\n",
            "1 of kfold 5\n",
            "\n",
            "1 of kfold 5\n",
            "\n",
            "1 of kfold 5\n",
            "\n",
            "1 of kfold 5\n",
            "accuracy_score 0.7950819672131147\n"
          ],
          "name": "stdout"
        }
      ]
    },
    {
      "cell_type": "markdown",
      "metadata": {
        "id": "UwbyEf1u787A"
      },
      "source": [
        "Observation:\n",
        "\n",
        "The mean validation accuracy for this model is 0.795"
      ]
    },
    {
      "cell_type": "code",
      "metadata": {
        "id": "CE1n-D_E70PE"
      },
      "source": [
        "submission['Loan_Status'] = pred_test       #Filling Loan_Status with predictions\n",
        "submission['Loan_ID'] = test_original['Loan_ID'] # Filling Loan_ID with test Loan_ID\n",
        "\n",
        "# Replacing 0 and 1 with N and Y\n",
        "\n",
        "submission['Loan_Status'].replace(0, 'N', inplace = True)\n",
        "submission['Loan_Status'].replace(1, 'Y', inplace = True)\n",
        "\n",
        "# Converting submission file to .csv format\n",
        "pd.DataFrame(submission, columns=['Loan_ID', 'Loan_Status']).to_csv('RandomForest.csv')"
      ],
      "execution_count": 163,
      "outputs": []
    },
    {
      "cell_type": "markdown",
      "metadata": {
        "id": "lr2GlhrF_Hrq"
      },
      "source": [
        "### XGBOOST\n",
        "\n"
      ]
    },
    {
      "cell_type": "markdown",
      "metadata": {
        "id": "aykgnmsYUwUp"
      },
      "source": [
        "This is a fast and efficient algorithm that works only with numeric variables and we have already replaced the categorical variables with numeric variables.\n",
        "\n",
        "Let's have a look at the parameters that we are going to use in our model.\n",
        "\n",
        "- **n_estimators**: this specifies the number of trees for the model\n",
        "- **max_depth**: we can specify maximum depth of a tree using this parameter."
      ]
    },
    {
      "cell_type": "code",
      "metadata": {
        "id": "JKRjqCqcBsK9"
      },
      "source": [
        "from xgboost import XGBClassifier"
      ],
      "execution_count": 165,
      "outputs": []
    },
    {
      "cell_type": "code",
      "metadata": {
        "id": "JrMpZaRaB1YH",
        "outputId": "3508cd67-9e6d-462d-ac54-58144216ea42",
        "colab": {
          "base_uri": "https://localhost:8080/",
          "height": 204
        }
      },
      "source": [
        "i = 1\n",
        "kf = StratifiedKFold(n_splits = 5, random_state = 1, shuffle = True)\n",
        "for train_index, test_index in kf.split(X,y):\n",
        "  print ('\\n{} of kfold {}'.format (i,kf.n_splits))\n",
        "xtr,xvl = X.loc[train_index], X.loc[test_index]\n",
        "ytr,yvl = y[train_index], y[test_index]\n",
        "\n",
        "model = XGBClassifier(n_estimators=50, max_depth = 4)\n",
        "model.fit(xtr, ytr)\n",
        "pred_test = model.predict(xvl)\n",
        "score = accuracy_score (yvl, pred_test)\n",
        "print('accuracy_score', score)\n",
        "i+=1\n",
        "pred_test = model.predict(test)\n",
        "pred3 = model.predict_proba(test)[:,1]"
      ],
      "execution_count": 166,
      "outputs": [
        {
          "output_type": "stream",
          "text": [
            "\n",
            "1 of kfold 5\n",
            "\n",
            "1 of kfold 5\n",
            "\n",
            "1 of kfold 5\n",
            "\n",
            "1 of kfold 5\n",
            "\n",
            "1 of kfold 5\n",
            "accuracy_score 0.8032786885245902\n"
          ],
          "name": "stdout"
        }
      ]
    },
    {
      "cell_type": "markdown",
      "metadata": {
        "id": "blDuAt7bCSxv"
      },
      "source": [
        "Observation:\n",
        "\n",
        "The mean validation accuracy for this model is 0.803"
      ]
    },
    {
      "cell_type": "code",
      "metadata": {
        "id": "rgUUi45bCa5J"
      },
      "source": [
        "submission['Loan_Status'] = pred_test       #Filling Loan_Status with predictions\n",
        "submission['Loan_ID'] = test_original['Loan_ID'] # Filling Loan_ID with test Loan_ID\n",
        "\n",
        "# Replacing 0 and 1 with N and Y\n",
        "\n",
        "submission['Loan_Status'].replace(0, 'N', inplace = True)\n",
        "submission['Loan_Status'].replace(1, 'Y', inplace = True)\n",
        "\n",
        "# Converting submission file to .csv format\n",
        "pd.DataFrame(submission, columns=['Loan_ID', 'Loan_Status']).to_csv('XGBoost.csv')"
      ],
      "execution_count": 167,
      "outputs": []
    },
    {
      "cell_type": "markdown",
      "metadata": {
        "id": "YiRa3-zeUCSG"
      },
      "source": [
        "# Final Observations\n",
        "\n",
        "- XGBoost Model was the best with an accuracy score of 80.3 %\n",
        "- Random Forest Model had an accuracy score of 79.5%\n",
        "- Logistic regression model had an accuracy score of 79.5%\n",
        "- Decision Tree model had an accuracy score of 67%"
      ]
    },
    {
      "cell_type": "markdown",
      "metadata": {
        "id": "_U_s9V2D8sCB"
      },
      "source": [
        "# Feature Importance Engineering"
      ]
    },
    {
      "cell_type": "markdown",
      "metadata": {
        "id": "UFCa4-CI9B6Z"
      },
      "source": [
        "Let's use feature_importances_attribute to identify which features are most important for this problem."
      ]
    },
    {
      "cell_type": "code",
      "metadata": {
        "id": "hB2xPY1j8bVk",
        "outputId": "88f6631c-d15b-4729-a9f3-12536bd43ee4",
        "colab": {
          "base_uri": "https://localhost:8080/",
          "height": 500
        }
      },
      "source": [
        "importances = pd.Series(model.feature_importances_, index=X.columns)\n",
        "importances.plot(kind='barh', figsize=(12,8))"
      ],
      "execution_count": 164,
      "outputs": [
        {
          "output_type": "execute_result",
          "data": {
            "text/plain": [
              "<matplotlib.axes._subplots.AxesSubplot at 0x7f23617cfb70>"
            ]
          },
          "metadata": {
            "tags": []
          },
          "execution_count": 164
        },
        {
          "output_type": "display_data",
          "data": {
            "image/png": "[encoded data removed]",
            "text/plain": [
              "<Figure size 864x576 with 1 Axes>"
            ]
          },
          "metadata": {
            "tags": [],
            "needs_background": "light"
          }
        }
      ]
    },
    {
      "cell_type": "markdown",
      "metadata": {
        "id": "BtBRCesk90Rk"
      },
      "source": [
        "We can see that Credit History is the most important feature.\n",
        "\n",
        "Feature engineering helps us identify our target variable."
      ]
    },
    {
      "cell_type": "markdown",
      "metadata": {
        "id": "9fNlTohdS5Va"
      },
      "source": [
        "**What more can be tried?**\n",
        "\n",
        "- We can train the XGBoost model using grid search to optimize its hyperparameters and improve the accuracy.\n",
        "- We can combine the applicants with 1,2,3 or more dependents and make a new feature as discussed in the EDA part.\n",
        "- We can also make independent variable visualizations to discover some more patterns.\n",
        "- We can also arrive at the EMI using a better formula which may include interest rates as well.\n",
        "- We can even try ensemble modelling(combination of different models). "
      ]
    }
  ]
}